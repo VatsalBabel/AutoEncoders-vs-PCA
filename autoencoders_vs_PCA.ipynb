{
  "nbformat": 4,
  "nbformat_minor": 0,
  "metadata": {
    "colab": {
      "name": "autoencoders vs PCA.ipynb",
      "provenance": [],
      "collapsed_sections": [],
      "authorship_tag": "ABX9TyNjYww5tCVjWiUl8XQQaGxv",
      "include_colab_link": true
    },
    "kernelspec": {
      "name": "python3",
      "display_name": "Python 3"
    },
    "accelerator": "TPU"
  },
  "cells": [
    {
      "cell_type": "markdown",
      "metadata": {
        "id": "view-in-github",
        "colab_type": "text"
      },
      "source": [
        "<a href=\"https://colab.research.google.com/github/VatsalBabel/AutoEncoders-vs-PCA/blob/main/autoencoders_vs_PCA.ipynb\" target=\"_parent\"><img src=\"https://colab.research.google.com/assets/colab-badge.svg\" alt=\"Open In Colab\"/></a>"
      ]
    },
    {
      "cell_type": "code",
      "metadata": {
        "id": "OeCKWC-z3Xn8"
      },
      "source": [
        "import numpy as np\n",
        "import pandas as pd\n",
        "from google.colab import drive\n",
        "from sklearn.preprocessing import MinMaxScaler\n",
        "from sklearn.decomposition import PCA\n",
        "from tensorflow.keras.layers import Dense, Input\n",
        "from tensorflow.keras.models import Model\n",
        "from tensorflow.keras.utils import plot_model"
      ],
      "execution_count": 1,
      "outputs": []
    },
    {
      "cell_type": "code",
      "metadata": {
        "id": "9xUJL_dV3sTp",
        "outputId": "79dce0b6-5a12-40d5-bdc1-77d8942c0579",
        "colab": {
          "base_uri": "https://localhost:8080/",
          "height": 34
        }
      },
      "source": [
        "drive.mount('/content/gdrive')"
      ],
      "execution_count": 2,
      "outputs": [
        {
          "output_type": "stream",
          "text": [
            "Drive already mounted at /content/gdrive; to attempt to forcibly remount, call drive.mount(\"/content/gdrive\", force_remount=True).\n"
          ],
          "name": "stdout"
        }
      ]
    },
    {
      "cell_type": "code",
      "metadata": {
        "id": "nQ4oy6pf3u1o"
      },
      "source": [
        "original_df = pd.read_csv('/content/gdrive/My Drive/My Projects/Agile Analysis/Algos/agile_wc.csv')"
      ],
      "execution_count": 3,
      "outputs": []
    },
    {
      "cell_type": "code",
      "metadata": {
        "id": "v1RPHkLJ4Wzr",
        "outputId": "d965c62e-9045-4375-92ed-76c430ad8f8d",
        "colab": {
          "base_uri": "https://localhost:8080/",
          "height": 363
        }
      },
      "source": [
        "original_df.head(10)"
      ],
      "execution_count": 4,
      "outputs": [
        {
          "output_type": "execute_result",
          "data": {
            "text/html": [
              "<div>\n",
              "<style scoped>\n",
              "    .dataframe tbody tr th:only-of-type {\n",
              "        vertical-align: middle;\n",
              "    }\n",
              "\n",
              "    .dataframe tbody tr th {\n",
              "        vertical-align: top;\n",
              "    }\n",
              "\n",
              "    .dataframe thead th {\n",
              "        text-align: right;\n",
              "    }\n",
              "</style>\n",
              "<table border=\"1\" class=\"dataframe\">\n",
              "  <thead>\n",
              "    <tr style=\"text-align: right;\">\n",
              "      <th></th>\n",
              "      <th>Effort</th>\n",
              "      <th>Vi</th>\n",
              "      <th>D</th>\n",
              "      <th>V</th>\n",
              "      <th>Sprint Size</th>\n",
              "      <th>Work days</th>\n",
              "      <th>Team Salary</th>\n",
              "      <th>Act Time</th>\n",
              "    </tr>\n",
              "  </thead>\n",
              "  <tbody>\n",
              "    <tr>\n",
              "      <th>0</th>\n",
              "      <td>156</td>\n",
              "      <td>4.2</td>\n",
              "      <td>0.687</td>\n",
              "      <td>2.7</td>\n",
              "      <td>10</td>\n",
              "      <td>22</td>\n",
              "      <td>230000</td>\n",
              "      <td>63</td>\n",
              "    </tr>\n",
              "    <tr>\n",
              "      <th>1</th>\n",
              "      <td>202</td>\n",
              "      <td>3.7</td>\n",
              "      <td>0.701</td>\n",
              "      <td>2.5</td>\n",
              "      <td>10</td>\n",
              "      <td>21</td>\n",
              "      <td>260000</td>\n",
              "      <td>92</td>\n",
              "    </tr>\n",
              "    <tr>\n",
              "      <th>2</th>\n",
              "      <td>173</td>\n",
              "      <td>4.0</td>\n",
              "      <td>0.878</td>\n",
              "      <td>3.3</td>\n",
              "      <td>10</td>\n",
              "      <td>22</td>\n",
              "      <td>250000</td>\n",
              "      <td>56</td>\n",
              "    </tr>\n",
              "    <tr>\n",
              "      <th>3</th>\n",
              "      <td>331</td>\n",
              "      <td>4.5</td>\n",
              "      <td>0.886</td>\n",
              "      <td>3.8</td>\n",
              "      <td>10</td>\n",
              "      <td>22</td>\n",
              "      <td>300000</td>\n",
              "      <td>86</td>\n",
              "    </tr>\n",
              "    <tr>\n",
              "      <th>4</th>\n",
              "      <td>124</td>\n",
              "      <td>4.9</td>\n",
              "      <td>0.903</td>\n",
              "      <td>4.2</td>\n",
              "      <td>10</td>\n",
              "      <td>22</td>\n",
              "      <td>300000</td>\n",
              "      <td>32</td>\n",
              "    </tr>\n",
              "    <tr>\n",
              "      <th>5</th>\n",
              "      <td>339</td>\n",
              "      <td>4.1</td>\n",
              "      <td>0.903</td>\n",
              "      <td>3.6</td>\n",
              "      <td>10</td>\n",
              "      <td>22</td>\n",
              "      <td>400000</td>\n",
              "      <td>91</td>\n",
              "    </tr>\n",
              "    <tr>\n",
              "      <th>6</th>\n",
              "      <td>97</td>\n",
              "      <td>4.2</td>\n",
              "      <td>0.859</td>\n",
              "      <td>3.4</td>\n",
              "      <td>10</td>\n",
              "      <td>22</td>\n",
              "      <td>250000</td>\n",
              "      <td>35</td>\n",
              "    </tr>\n",
              "    <tr>\n",
              "      <th>7</th>\n",
              "      <td>257</td>\n",
              "      <td>3.8</td>\n",
              "      <td>0.833</td>\n",
              "      <td>3.0</td>\n",
              "      <td>10</td>\n",
              "      <td>22</td>\n",
              "      <td>250000</td>\n",
              "      <td>93</td>\n",
              "    </tr>\n",
              "    <tr>\n",
              "      <th>8</th>\n",
              "      <td>84</td>\n",
              "      <td>3.9</td>\n",
              "      <td>0.646</td>\n",
              "      <td>2.4</td>\n",
              "      <td>10</td>\n",
              "      <td>22</td>\n",
              "      <td>190000</td>\n",
              "      <td>36</td>\n",
              "    </tr>\n",
              "    <tr>\n",
              "      <th>9</th>\n",
              "      <td>211</td>\n",
              "      <td>4.6</td>\n",
              "      <td>0.758</td>\n",
              "      <td>3.2</td>\n",
              "      <td>10</td>\n",
              "      <td>22</td>\n",
              "      <td>250000</td>\n",
              "      <td>62</td>\n",
              "    </tr>\n",
              "  </tbody>\n",
              "</table>\n",
              "</div>"
            ],
            "text/plain": [
              "   Effort   Vi      D    V  Sprint Size  Work days  Team Salary  Act Time\n",
              "0     156  4.2  0.687  2.7           10         22       230000        63\n",
              "1     202  3.7  0.701  2.5           10         21       260000        92\n",
              "2     173  4.0  0.878  3.3           10         22       250000        56\n",
              "3     331  4.5  0.886  3.8           10         22       300000        86\n",
              "4     124  4.9  0.903  4.2           10         22       300000        32\n",
              "5     339  4.1  0.903  3.6           10         22       400000        91\n",
              "6      97  4.2  0.859  3.4           10         22       250000        35\n",
              "7     257  3.8  0.833  3.0           10         22       250000        93\n",
              "8      84  3.9  0.646  2.4           10         22       190000        36\n",
              "9     211  4.6  0.758  3.2           10         22       250000        62"
            ]
          },
          "metadata": {
            "tags": []
          },
          "execution_count": 4
        }
      ]
    },
    {
      "cell_type": "code",
      "metadata": {
        "id": "hVPBWv-b45Hc"
      },
      "source": [
        "mms = MinMaxScaler()\n",
        "mms.fit(original_df)\n",
        "original_df = pd.DataFrame(mms.transform(original_df), columns=original_df.columns)"
      ],
      "execution_count": 5,
      "outputs": []
    },
    {
      "cell_type": "code",
      "metadata": {
        "id": "tplF2Nfl5uVC",
        "outputId": "5b83d13a-036c-4810-f66d-50cddb7ca111",
        "colab": {
          "base_uri": "https://localhost:8080/",
          "height": 363
        }
      },
      "source": [
        "original_df.head(10)"
      ],
      "execution_count": 6,
      "outputs": [
        {
          "output_type": "execute_result",
          "data": {
            "text/html": [
              "<div>\n",
              "<style scoped>\n",
              "    .dataframe tbody tr th:only-of-type {\n",
              "        vertical-align: middle;\n",
              "    }\n",
              "\n",
              "    .dataframe tbody tr th {\n",
              "        vertical-align: top;\n",
              "    }\n",
              "\n",
              "    .dataframe thead th {\n",
              "        text-align: right;\n",
              "    }\n",
              "</style>\n",
              "<table border=\"1\" class=\"dataframe\">\n",
              "  <thead>\n",
              "    <tr style=\"text-align: right;\">\n",
              "      <th></th>\n",
              "      <th>Effort</th>\n",
              "      <th>Vi</th>\n",
              "      <th>D</th>\n",
              "      <th>V</th>\n",
              "      <th>Sprint Size</th>\n",
              "      <th>Work days</th>\n",
              "      <th>Team Salary</th>\n",
              "      <th>Act Time</th>\n",
              "    </tr>\n",
              "  </thead>\n",
              "  <tbody>\n",
              "    <tr>\n",
              "      <th>0</th>\n",
              "      <td>0.339350</td>\n",
              "      <td>0.416667</td>\n",
              "      <td>0.159533</td>\n",
              "      <td>0.166667</td>\n",
              "      <td>0.0</td>\n",
              "      <td>1.0</td>\n",
              "      <td>0.190476</td>\n",
              "      <td>0.461538</td>\n",
              "    </tr>\n",
              "    <tr>\n",
              "      <th>1</th>\n",
              "      <td>0.505415</td>\n",
              "      <td>0.000000</td>\n",
              "      <td>0.214008</td>\n",
              "      <td>0.055556</td>\n",
              "      <td>0.0</td>\n",
              "      <td>0.0</td>\n",
              "      <td>0.333333</td>\n",
              "      <td>0.780220</td>\n",
              "    </tr>\n",
              "    <tr>\n",
              "      <th>2</th>\n",
              "      <td>0.400722</td>\n",
              "      <td>0.250000</td>\n",
              "      <td>0.902724</td>\n",
              "      <td>0.500000</td>\n",
              "      <td>0.0</td>\n",
              "      <td>1.0</td>\n",
              "      <td>0.285714</td>\n",
              "      <td>0.384615</td>\n",
              "    </tr>\n",
              "    <tr>\n",
              "      <th>3</th>\n",
              "      <td>0.971119</td>\n",
              "      <td>0.666667</td>\n",
              "      <td>0.933852</td>\n",
              "      <td>0.777778</td>\n",
              "      <td>0.0</td>\n",
              "      <td>1.0</td>\n",
              "      <td>0.523810</td>\n",
              "      <td>0.714286</td>\n",
              "    </tr>\n",
              "    <tr>\n",
              "      <th>4</th>\n",
              "      <td>0.223827</td>\n",
              "      <td>1.000000</td>\n",
              "      <td>1.000000</td>\n",
              "      <td>1.000000</td>\n",
              "      <td>0.0</td>\n",
              "      <td>1.0</td>\n",
              "      <td>0.523810</td>\n",
              "      <td>0.120879</td>\n",
              "    </tr>\n",
              "    <tr>\n",
              "      <th>5</th>\n",
              "      <td>1.000000</td>\n",
              "      <td>0.333333</td>\n",
              "      <td>1.000000</td>\n",
              "      <td>0.666667</td>\n",
              "      <td>0.0</td>\n",
              "      <td>1.0</td>\n",
              "      <td>1.000000</td>\n",
              "      <td>0.769231</td>\n",
              "    </tr>\n",
              "    <tr>\n",
              "      <th>6</th>\n",
              "      <td>0.126354</td>\n",
              "      <td>0.416667</td>\n",
              "      <td>0.828794</td>\n",
              "      <td>0.555556</td>\n",
              "      <td>0.0</td>\n",
              "      <td>1.0</td>\n",
              "      <td>0.285714</td>\n",
              "      <td>0.153846</td>\n",
              "    </tr>\n",
              "    <tr>\n",
              "      <th>7</th>\n",
              "      <td>0.703971</td>\n",
              "      <td>0.083333</td>\n",
              "      <td>0.727626</td>\n",
              "      <td>0.333333</td>\n",
              "      <td>0.0</td>\n",
              "      <td>1.0</td>\n",
              "      <td>0.285714</td>\n",
              "      <td>0.791209</td>\n",
              "    </tr>\n",
              "    <tr>\n",
              "      <th>8</th>\n",
              "      <td>0.079422</td>\n",
              "      <td>0.166667</td>\n",
              "      <td>0.000000</td>\n",
              "      <td>0.000000</td>\n",
              "      <td>0.0</td>\n",
              "      <td>1.0</td>\n",
              "      <td>0.000000</td>\n",
              "      <td>0.164835</td>\n",
              "    </tr>\n",
              "    <tr>\n",
              "      <th>9</th>\n",
              "      <td>0.537906</td>\n",
              "      <td>0.750000</td>\n",
              "      <td>0.435798</td>\n",
              "      <td>0.444444</td>\n",
              "      <td>0.0</td>\n",
              "      <td>1.0</td>\n",
              "      <td>0.285714</td>\n",
              "      <td>0.450549</td>\n",
              "    </tr>\n",
              "  </tbody>\n",
              "</table>\n",
              "</div>"
            ],
            "text/plain": [
              "     Effort        Vi         D  ...  Work days  Team Salary  Act Time\n",
              "0  0.339350  0.416667  0.159533  ...        1.0     0.190476  0.461538\n",
              "1  0.505415  0.000000  0.214008  ...        0.0     0.333333  0.780220\n",
              "2  0.400722  0.250000  0.902724  ...        1.0     0.285714  0.384615\n",
              "3  0.971119  0.666667  0.933852  ...        1.0     0.523810  0.714286\n",
              "4  0.223827  1.000000  1.000000  ...        1.0     0.523810  0.120879\n",
              "5  1.000000  0.333333  1.000000  ...        1.0     1.000000  0.769231\n",
              "6  0.126354  0.416667  0.828794  ...        1.0     0.285714  0.153846\n",
              "7  0.703971  0.083333  0.727626  ...        1.0     0.285714  0.791209\n",
              "8  0.079422  0.166667  0.000000  ...        1.0     0.000000  0.164835\n",
              "9  0.537906  0.750000  0.435798  ...        1.0     0.285714  0.450549\n",
              "\n",
              "[10 rows x 8 columns]"
            ]
          },
          "metadata": {
            "tags": []
          },
          "execution_count": 6
        }
      ]
    },
    {
      "cell_type": "code",
      "metadata": {
        "id": "IMHAN6Xq50oe"
      },
      "source": [
        "for column_name in original_df.columns:\n",
        "  if len(original_df[column_name].unique())==1 or column_name.count('Work')>0:\n",
        "    original_df.drop(column_name, inplace=True, axis=1)"
      ],
      "execution_count": 7,
      "outputs": []
    },
    {
      "cell_type": "code",
      "metadata": {
        "id": "fr2muyMZ6K0k",
        "outputId": "aa8054d0-1152-4fd5-d0f1-82da8ea0f56d",
        "colab": {
          "base_uri": "https://localhost:8080/",
          "height": 206
        }
      },
      "source": [
        "original_df.head()"
      ],
      "execution_count": 8,
      "outputs": [
        {
          "output_type": "execute_result",
          "data": {
            "text/html": [
              "<div>\n",
              "<style scoped>\n",
              "    .dataframe tbody tr th:only-of-type {\n",
              "        vertical-align: middle;\n",
              "    }\n",
              "\n",
              "    .dataframe tbody tr th {\n",
              "        vertical-align: top;\n",
              "    }\n",
              "\n",
              "    .dataframe thead th {\n",
              "        text-align: right;\n",
              "    }\n",
              "</style>\n",
              "<table border=\"1\" class=\"dataframe\">\n",
              "  <thead>\n",
              "    <tr style=\"text-align: right;\">\n",
              "      <th></th>\n",
              "      <th>Effort</th>\n",
              "      <th>Vi</th>\n",
              "      <th>D</th>\n",
              "      <th>V</th>\n",
              "      <th>Team Salary</th>\n",
              "      <th>Act Time</th>\n",
              "    </tr>\n",
              "  </thead>\n",
              "  <tbody>\n",
              "    <tr>\n",
              "      <th>0</th>\n",
              "      <td>0.339350</td>\n",
              "      <td>0.416667</td>\n",
              "      <td>0.159533</td>\n",
              "      <td>0.166667</td>\n",
              "      <td>0.190476</td>\n",
              "      <td>0.461538</td>\n",
              "    </tr>\n",
              "    <tr>\n",
              "      <th>1</th>\n",
              "      <td>0.505415</td>\n",
              "      <td>0.000000</td>\n",
              "      <td>0.214008</td>\n",
              "      <td>0.055556</td>\n",
              "      <td>0.333333</td>\n",
              "      <td>0.780220</td>\n",
              "    </tr>\n",
              "    <tr>\n",
              "      <th>2</th>\n",
              "      <td>0.400722</td>\n",
              "      <td>0.250000</td>\n",
              "      <td>0.902724</td>\n",
              "      <td>0.500000</td>\n",
              "      <td>0.285714</td>\n",
              "      <td>0.384615</td>\n",
              "    </tr>\n",
              "    <tr>\n",
              "      <th>3</th>\n",
              "      <td>0.971119</td>\n",
              "      <td>0.666667</td>\n",
              "      <td>0.933852</td>\n",
              "      <td>0.777778</td>\n",
              "      <td>0.523810</td>\n",
              "      <td>0.714286</td>\n",
              "    </tr>\n",
              "    <tr>\n",
              "      <th>4</th>\n",
              "      <td>0.223827</td>\n",
              "      <td>1.000000</td>\n",
              "      <td>1.000000</td>\n",
              "      <td>1.000000</td>\n",
              "      <td>0.523810</td>\n",
              "      <td>0.120879</td>\n",
              "    </tr>\n",
              "  </tbody>\n",
              "</table>\n",
              "</div>"
            ],
            "text/plain": [
              "     Effort        Vi         D         V  Team Salary  Act Time\n",
              "0  0.339350  0.416667  0.159533  0.166667     0.190476  0.461538\n",
              "1  0.505415  0.000000  0.214008  0.055556     0.333333  0.780220\n",
              "2  0.400722  0.250000  0.902724  0.500000     0.285714  0.384615\n",
              "3  0.971119  0.666667  0.933852  0.777778     0.523810  0.714286\n",
              "4  0.223827  1.000000  1.000000  1.000000     0.523810  0.120879"
            ]
          },
          "metadata": {
            "tags": []
          },
          "execution_count": 8
        }
      ]
    },
    {
      "cell_type": "code",
      "metadata": {
        "id": "uPKkluCf7jaC"
      },
      "source": [
        ""
      ],
      "execution_count": 8,
      "outputs": []
    },
    {
      "cell_type": "code",
      "metadata": {
        "id": "YXWSEfSW8gKM"
      },
      "source": [
        "input = Input(shape=6, name='input')\n",
        "a1 = Dense(7, activation='relu', name='a1')(input)\n",
        "a2 = Dense(6, activation='relu', name='a2')(a1)\n",
        "a6 = Dense(4, activation='relu', name='a6')(a2)\n",
        "a3 = Dense(4, activation='relu', name='a3')(a6)\n",
        "a4 = Dense(7, activation='relu', name='a4')(a3)\n",
        "a5 = Dense(6, name='a5')(a4)"
      ],
      "execution_count": 9,
      "outputs": []
    },
    {
      "cell_type": "code",
      "metadata": {
        "id": "FW9mumTA8ilV"
      },
      "source": [
        "model = Model(inputs=[input], outputs=[a3, a5])"
      ],
      "execution_count": 10,
      "outputs": []
    },
    {
      "cell_type": "code",
      "metadata": {
        "id": "W3s1rD_8-9oh",
        "outputId": "0ed9c01b-a97e-4469-f750-a029671d1214",
        "colab": {
          "base_uri": "https://localhost:8080/",
          "height": 754
        }
      },
      "source": [
        "plot_model(model, show_shapes=True)"
      ],
      "execution_count": 11,
      "outputs": [
        {
          "output_type": "execute_result",
          "data": {
            "image/png": "[encoded data removed]",
            "text/plain": [
              "<IPython.core.display.Image object>"
            ]
          },
          "metadata": {
            "tags": []
          },
          "execution_count": 11
        }
      ]
    },
    {
      "cell_type": "code",
      "metadata": {
        "id": "qSrnUbqC_J_F"
      },
      "source": [
        "model.compile(optimizer='adam', loss='mae')"
      ],
      "execution_count": 12,
      "outputs": []
    },
    {
      "cell_type": "code",
      "metadata": {
        "id": "e1d_x87BAaZb"
      },
      "source": [
        "model.fit({'input':original_df.values}, {'a5':original_df.values}, batch_size=1, epochs=5000)"
      ],
      "execution_count": null,
      "outputs": []
    },
    {
      "cell_type": "code",
      "metadata": {
        "id": "QL8yE0fPBHsk"
      },
      "source": [
        "autoencoder_compressed, autoencoder_decompressed = model.predict(original_df.values)"
      ],
      "execution_count": 26,
      "outputs": []
    },
    {
      "cell_type": "code",
      "metadata": {
        "id": "VroltcPM300G",
        "outputId": "e7179eca-7416-4ea3-9a5d-1693ccdf13ce",
        "colab": {
          "base_uri": "https://localhost:8080/",
          "height": 708
        }
      },
      "source": [
        "autoencoder_decompressed = pd.DataFrame(autoencoder_decompressed, columns=original_df.columns)\n",
        "autoencoder_compressed = pd.DataFrame(autoencoder_compressed)\n",
        "autoencoder_compressed"
      ],
      "execution_count": 27,
      "outputs": [
        {
          "output_type": "execute_result",
          "data": {
            "text/html": [
              "<div>\n",
              "<style scoped>\n",
              "    .dataframe tbody tr th:only-of-type {\n",
              "        vertical-align: middle;\n",
              "    }\n",
              "\n",
              "    .dataframe tbody tr th {\n",
              "        vertical-align: top;\n",
              "    }\n",
              "\n",
              "    .dataframe thead th {\n",
              "        text-align: right;\n",
              "    }\n",
              "</style>\n",
              "<table border=\"1\" class=\"dataframe\">\n",
              "  <thead>\n",
              "    <tr style=\"text-align: right;\">\n",
              "      <th></th>\n",
              "      <th>0</th>\n",
              "      <th>1</th>\n",
              "      <th>2</th>\n",
              "      <th>3</th>\n",
              "    </tr>\n",
              "  </thead>\n",
              "  <tbody>\n",
              "    <tr>\n",
              "      <th>0</th>\n",
              "      <td>0.209272</td>\n",
              "      <td>0.488463</td>\n",
              "      <td>0.790613</td>\n",
              "      <td>0.000000</td>\n",
              "    </tr>\n",
              "    <tr>\n",
              "      <th>1</th>\n",
              "      <td>0.750553</td>\n",
              "      <td>0.000000</td>\n",
              "      <td>1.035919</td>\n",
              "      <td>0.404424</td>\n",
              "    </tr>\n",
              "    <tr>\n",
              "      <th>2</th>\n",
              "      <td>0.383101</td>\n",
              "      <td>0.806855</td>\n",
              "      <td>1.259567</td>\n",
              "      <td>1.019924</td>\n",
              "    </tr>\n",
              "    <tr>\n",
              "      <th>3</th>\n",
              "      <td>0.975344</td>\n",
              "      <td>1.372639</td>\n",
              "      <td>2.006399</td>\n",
              "      <td>0.631817</td>\n",
              "    </tr>\n",
              "    <tr>\n",
              "      <th>4</th>\n",
              "      <td>0.000000</td>\n",
              "      <td>1.874099</td>\n",
              "      <td>1.287356</td>\n",
              "      <td>0.784263</td>\n",
              "    </tr>\n",
              "    <tr>\n",
              "      <th>5</th>\n",
              "      <td>1.102204</td>\n",
              "      <td>1.053892</td>\n",
              "      <td>1.984958</td>\n",
              "      <td>0.931869</td>\n",
              "    </tr>\n",
              "    <tr>\n",
              "      <th>6</th>\n",
              "      <td>0.000000</td>\n",
              "      <td>1.008672</td>\n",
              "      <td>0.838798</td>\n",
              "      <td>0.964828</td>\n",
              "    </tr>\n",
              "    <tr>\n",
              "      <th>7</th>\n",
              "      <td>0.855112</td>\n",
              "      <td>0.457426</td>\n",
              "      <td>1.430096</td>\n",
              "      <td>0.753038</td>\n",
              "    </tr>\n",
              "    <tr>\n",
              "      <th>8</th>\n",
              "      <td>0.000000</td>\n",
              "      <td>0.105213</td>\n",
              "      <td>0.000000</td>\n",
              "      <td>0.101819</td>\n",
              "    </tr>\n",
              "    <tr>\n",
              "      <th>9</th>\n",
              "      <td>0.349108</td>\n",
              "      <td>1.079756</td>\n",
              "      <td>1.238242</td>\n",
              "      <td>0.054233</td>\n",
              "    </tr>\n",
              "    <tr>\n",
              "      <th>10</th>\n",
              "      <td>0.000000</td>\n",
              "      <td>1.085037</td>\n",
              "      <td>0.914886</td>\n",
              "      <td>0.167165</td>\n",
              "    </tr>\n",
              "    <tr>\n",
              "      <th>11</th>\n",
              "      <td>0.000000</td>\n",
              "      <td>0.518808</td>\n",
              "      <td>0.445563</td>\n",
              "      <td>0.645656</td>\n",
              "    </tr>\n",
              "    <tr>\n",
              "      <th>12</th>\n",
              "      <td>0.000000</td>\n",
              "      <td>0.519861</td>\n",
              "      <td>0.300959</td>\n",
              "      <td>0.677036</td>\n",
              "    </tr>\n",
              "    <tr>\n",
              "      <th>13</th>\n",
              "      <td>0.000000</td>\n",
              "      <td>0.505565</td>\n",
              "      <td>0.163653</td>\n",
              "      <td>0.724099</td>\n",
              "    </tr>\n",
              "    <tr>\n",
              "      <th>14</th>\n",
              "      <td>0.000000</td>\n",
              "      <td>0.509342</td>\n",
              "      <td>0.000000</td>\n",
              "      <td>0.767768</td>\n",
              "    </tr>\n",
              "    <tr>\n",
              "      <th>15</th>\n",
              "      <td>1.007803</td>\n",
              "      <td>0.394223</td>\n",
              "      <td>1.439949</td>\n",
              "      <td>0.167767</td>\n",
              "    </tr>\n",
              "    <tr>\n",
              "      <th>16</th>\n",
              "      <td>0.000000</td>\n",
              "      <td>0.481706</td>\n",
              "      <td>0.679682</td>\n",
              "      <td>0.506936</td>\n",
              "    </tr>\n",
              "    <tr>\n",
              "      <th>17</th>\n",
              "      <td>0.166361</td>\n",
              "      <td>0.464331</td>\n",
              "      <td>0.810498</td>\n",
              "      <td>0.450697</td>\n",
              "    </tr>\n",
              "    <tr>\n",
              "      <th>18</th>\n",
              "      <td>0.563424</td>\n",
              "      <td>0.433190</td>\n",
              "      <td>1.108256</td>\n",
              "      <td>0.315011</td>\n",
              "    </tr>\n",
              "    <tr>\n",
              "      <th>19</th>\n",
              "      <td>0.238970</td>\n",
              "      <td>0.213703</td>\n",
              "      <td>0.773863</td>\n",
              "      <td>0.707814</td>\n",
              "    </tr>\n",
              "    <tr>\n",
              "      <th>20</th>\n",
              "      <td>0.000000</td>\n",
              "      <td>0.250262</td>\n",
              "      <td>0.463672</td>\n",
              "      <td>0.780348</td>\n",
              "    </tr>\n",
              "  </tbody>\n",
              "</table>\n",
              "</div>"
            ],
            "text/plain": [
              "           0         1         2         3\n",
              "0   0.209272  0.488463  0.790613  0.000000\n",
              "1   0.750553  0.000000  1.035919  0.404424\n",
              "2   0.383101  0.806855  1.259567  1.019924\n",
              "3   0.975344  1.372639  2.006399  0.631817\n",
              "4   0.000000  1.874099  1.287356  0.784263\n",
              "5   1.102204  1.053892  1.984958  0.931869\n",
              "6   0.000000  1.008672  0.838798  0.964828\n",
              "7   0.855112  0.457426  1.430096  0.753038\n",
              "8   0.000000  0.105213  0.000000  0.101819\n",
              "9   0.349108  1.079756  1.238242  0.054233\n",
              "10  0.000000  1.085037  0.914886  0.167165\n",
              "11  0.000000  0.518808  0.445563  0.645656\n",
              "12  0.000000  0.519861  0.300959  0.677036\n",
              "13  0.000000  0.505565  0.163653  0.724099\n",
              "14  0.000000  0.509342  0.000000  0.767768\n",
              "15  1.007803  0.394223  1.439949  0.167767\n",
              "16  0.000000  0.481706  0.679682  0.506936\n",
              "17  0.166361  0.464331  0.810498  0.450697\n",
              "18  0.563424  0.433190  1.108256  0.315011\n",
              "19  0.238970  0.213703  0.773863  0.707814\n",
              "20  0.000000  0.250262  0.463672  0.780348"
            ]
          },
          "metadata": {
            "tags": []
          },
          "execution_count": 27
        }
      ]
    },
    {
      "cell_type": "code",
      "metadata": {
        "id": "6R488sF74W4a"
      },
      "source": [
        "#Check to remove any sparse columns from our compressed dataframes\n",
        "autoencoder_compressed = autoencoder_compressed.drop([x for x in autoencoder_compressed.columns if autoencoder_compressed[x].sum()==0], axis=1)"
      ],
      "execution_count": 28,
      "outputs": []
    },
    {
      "cell_type": "code",
      "metadata": {
        "id": "O_vJpzKF40o0",
        "outputId": "e02b2808-5586-44d9-912f-fc06e74573e0",
        "colab": {
          "base_uri": "https://localhost:8080/",
          "height": 34
        }
      },
      "source": [
        "print(original_df.shape, autoencoder_compressed.shape)"
      ],
      "execution_count": 31,
      "outputs": [
        {
          "output_type": "stream",
          "text": [
            "(21, 6) (21, 4)\n"
          ],
          "name": "stdout"
        }
      ]
    },
    {
      "cell_type": "code",
      "metadata": {
        "id": "VfSRhl2R5e-R"
      },
      "source": [
        "#So we have compressed our complete dataframe of 6 dimensions to 4 dimensions\n",
        "#Now lets check the results with PCA"
      ],
      "execution_count": 33,
      "outputs": []
    },
    {
      "cell_type": "code",
      "metadata": {
        "id": "j2qLuelh5vAz"
      },
      "source": [
        "pca = PCA(n_components=4)\n",
        "pca_reduced = pd.DataFrame(pca.fit_transform(original_df))\n",
        "pca_decompressed = pd.DataFrame(pca.inverse_transform(pca_reduced), columns=original_df.columns)"
      ],
      "execution_count": 34,
      "outputs": []
    },
    {
      "cell_type": "code",
      "metadata": {
        "id": "czWLihag59OK"
      },
      "source": [
        ""
      ],
      "execution_count": 34,
      "outputs": []
    },
    {
      "cell_type": "code",
      "metadata": {
        "id": "VOsFk6fQ5-hV",
        "outputId": "1c558f0f-f690-4639-c947-fa5689127e0e",
        "colab": {
          "base_uri": "https://localhost:8080/",
          "height": 206
        }
      },
      "source": [
        "autoencoder_compressed.head()"
      ],
      "execution_count": 35,
      "outputs": [
        {
          "output_type": "execute_result",
          "data": {
            "text/html": [
              "<div>\n",
              "<style scoped>\n",
              "    .dataframe tbody tr th:only-of-type {\n",
              "        vertical-align: middle;\n",
              "    }\n",
              "\n",
              "    .dataframe tbody tr th {\n",
              "        vertical-align: top;\n",
              "    }\n",
              "\n",
              "    .dataframe thead th {\n",
              "        text-align: right;\n",
              "    }\n",
              "</style>\n",
              "<table border=\"1\" class=\"dataframe\">\n",
              "  <thead>\n",
              "    <tr style=\"text-align: right;\">\n",
              "      <th></th>\n",
              "      <th>0</th>\n",
              "      <th>1</th>\n",
              "      <th>2</th>\n",
              "      <th>3</th>\n",
              "    </tr>\n",
              "  </thead>\n",
              "  <tbody>\n",
              "    <tr>\n",
              "      <th>0</th>\n",
              "      <td>0.209272</td>\n",
              "      <td>0.488463</td>\n",
              "      <td>0.790613</td>\n",
              "      <td>0.000000</td>\n",
              "    </tr>\n",
              "    <tr>\n",
              "      <th>1</th>\n",
              "      <td>0.750553</td>\n",
              "      <td>0.000000</td>\n",
              "      <td>1.035919</td>\n",
              "      <td>0.404424</td>\n",
              "    </tr>\n",
              "    <tr>\n",
              "      <th>2</th>\n",
              "      <td>0.383101</td>\n",
              "      <td>0.806855</td>\n",
              "      <td>1.259567</td>\n",
              "      <td>1.019924</td>\n",
              "    </tr>\n",
              "    <tr>\n",
              "      <th>3</th>\n",
              "      <td>0.975344</td>\n",
              "      <td>1.372639</td>\n",
              "      <td>2.006399</td>\n",
              "      <td>0.631817</td>\n",
              "    </tr>\n",
              "    <tr>\n",
              "      <th>4</th>\n",
              "      <td>0.000000</td>\n",
              "      <td>1.874099</td>\n",
              "      <td>1.287356</td>\n",
              "      <td>0.784263</td>\n",
              "    </tr>\n",
              "  </tbody>\n",
              "</table>\n",
              "</div>"
            ],
            "text/plain": [
              "          0         1         2         3\n",
              "0  0.209272  0.488463  0.790613  0.000000\n",
              "1  0.750553  0.000000  1.035919  0.404424\n",
              "2  0.383101  0.806855  1.259567  1.019924\n",
              "3  0.975344  1.372639  2.006399  0.631817\n",
              "4  0.000000  1.874099  1.287356  0.784263"
            ]
          },
          "metadata": {
            "tags": []
          },
          "execution_count": 35
        }
      ]
    },
    {
      "cell_type": "code",
      "metadata": {
        "id": "gkUUR5Cy_i-P",
        "outputId": "80a87c09-de58-4e47-cda4-1e6b3964ea8c",
        "colab": {
          "base_uri": "https://localhost:8080/",
          "height": 206
        }
      },
      "source": [
        "pca_reduced.head()"
      ],
      "execution_count": 36,
      "outputs": [
        {
          "output_type": "execute_result",
          "data": {
            "text/html": [
              "<div>\n",
              "<style scoped>\n",
              "    .dataframe tbody tr th:only-of-type {\n",
              "        vertical-align: middle;\n",
              "    }\n",
              "\n",
              "    .dataframe tbody tr th {\n",
              "        vertical-align: top;\n",
              "    }\n",
              "\n",
              "    .dataframe thead th {\n",
              "        text-align: right;\n",
              "    }\n",
              "</style>\n",
              "<table border=\"1\" class=\"dataframe\">\n",
              "  <thead>\n",
              "    <tr style=\"text-align: right;\">\n",
              "      <th></th>\n",
              "      <th>0</th>\n",
              "      <th>1</th>\n",
              "      <th>2</th>\n",
              "      <th>3</th>\n",
              "    </tr>\n",
              "  </thead>\n",
              "  <tbody>\n",
              "    <tr>\n",
              "      <th>0</th>\n",
              "      <td>-0.209623</td>\n",
              "      <td>-0.183572</td>\n",
              "      <td>0.330337</td>\n",
              "      <td>0.028716</td>\n",
              "    </tr>\n",
              "    <tr>\n",
              "      <th>1</th>\n",
              "      <td>-0.093452</td>\n",
              "      <td>-0.650509</td>\n",
              "      <td>0.023039</td>\n",
              "      <td>0.100107</td>\n",
              "    </tr>\n",
              "    <tr>\n",
              "      <th>2</th>\n",
              "      <td>0.224970</td>\n",
              "      <td>0.157625</td>\n",
              "      <td>-0.290633</td>\n",
              "      <td>-0.105311</td>\n",
              "    </tr>\n",
              "    <tr>\n",
              "      <th>3</th>\n",
              "      <td>0.990981</td>\n",
              "      <td>0.031771</td>\n",
              "      <td>0.053111</td>\n",
              "      <td>-0.144867</td>\n",
              "    </tr>\n",
              "    <tr>\n",
              "      <th>4</th>\n",
              "      <td>0.595884</td>\n",
              "      <td>0.951333</td>\n",
              "      <td>0.138110</td>\n",
              "      <td>0.026758</td>\n",
              "    </tr>\n",
              "  </tbody>\n",
              "</table>\n",
              "</div>"
            ],
            "text/plain": [
              "          0         1         2         3\n",
              "0 -0.209623 -0.183572  0.330337  0.028716\n",
              "1 -0.093452 -0.650509  0.023039  0.100107\n",
              "2  0.224970  0.157625 -0.290633 -0.105311\n",
              "3  0.990981  0.031771  0.053111 -0.144867\n",
              "4  0.595884  0.951333  0.138110  0.026758"
            ]
          },
          "metadata": {
            "tags": []
          },
          "execution_count": 36
        }
      ]
    },
    {
      "cell_type": "code",
      "metadata": {
        "id": "UQ2CyszQ_old",
        "outputId": "816c93a3-4585-4f53-c0e1-a3a456d86833",
        "colab": {
          "base_uri": "https://localhost:8080/",
          "height": 206
        }
      },
      "source": [
        "autoencoder_decompressed.head()"
      ],
      "execution_count": 37,
      "outputs": [
        {
          "output_type": "execute_result",
          "data": {
            "text/html": [
              "<div>\n",
              "<style scoped>\n",
              "    .dataframe tbody tr th:only-of-type {\n",
              "        vertical-align: middle;\n",
              "    }\n",
              "\n",
              "    .dataframe tbody tr th {\n",
              "        vertical-align: top;\n",
              "    }\n",
              "\n",
              "    .dataframe thead th {\n",
              "        text-align: right;\n",
              "    }\n",
              "</style>\n",
              "<table border=\"1\" class=\"dataframe\">\n",
              "  <thead>\n",
              "    <tr style=\"text-align: right;\">\n",
              "      <th></th>\n",
              "      <th>Effort</th>\n",
              "      <th>Vi</th>\n",
              "      <th>D</th>\n",
              "      <th>V</th>\n",
              "      <th>Team Salary</th>\n",
              "      <th>Act Time</th>\n",
              "    </tr>\n",
              "  </thead>\n",
              "  <tbody>\n",
              "    <tr>\n",
              "      <th>0</th>\n",
              "      <td>0.345270</td>\n",
              "      <td>0.416537</td>\n",
              "      <td>0.163850</td>\n",
              "      <td>0.162219</td>\n",
              "      <td>0.190159</td>\n",
              "      <td>0.467719</td>\n",
              "    </tr>\n",
              "    <tr>\n",
              "      <th>1</th>\n",
              "      <td>0.487075</td>\n",
              "      <td>-0.002082</td>\n",
              "      <td>0.259241</td>\n",
              "      <td>0.052538</td>\n",
              "      <td>0.334357</td>\n",
              "      <td>0.784481</td>\n",
              "    </tr>\n",
              "    <tr>\n",
              "      <th>2</th>\n",
              "      <td>0.424652</td>\n",
              "      <td>0.235486</td>\n",
              "      <td>0.834138</td>\n",
              "      <td>0.503967</td>\n",
              "      <td>0.395407</td>\n",
              "      <td>0.364000</td>\n",
              "    </tr>\n",
              "    <tr>\n",
              "      <th>3</th>\n",
              "      <td>0.967467</td>\n",
              "      <td>0.655634</td>\n",
              "      <td>0.955856</td>\n",
              "      <td>0.744982</td>\n",
              "      <td>0.514410</td>\n",
              "      <td>0.732271</td>\n",
              "    </tr>\n",
              "    <tr>\n",
              "      <th>4</th>\n",
              "      <td>0.235195</td>\n",
              "      <td>1.004507</td>\n",
              "      <td>1.009962</td>\n",
              "      <td>0.939291</td>\n",
              "      <td>0.507264</td>\n",
              "      <td>0.149494</td>\n",
              "    </tr>\n",
              "  </tbody>\n",
              "</table>\n",
              "</div>"
            ],
            "text/plain": [
              "     Effort        Vi         D         V  Team Salary  Act Time\n",
              "0  0.345270  0.416537  0.163850  0.162219     0.190159  0.467719\n",
              "1  0.487075 -0.002082  0.259241  0.052538     0.334357  0.784481\n",
              "2  0.424652  0.235486  0.834138  0.503967     0.395407  0.364000\n",
              "3  0.967467  0.655634  0.955856  0.744982     0.514410  0.732271\n",
              "4  0.235195  1.004507  1.009962  0.939291     0.507264  0.149494"
            ]
          },
          "metadata": {
            "tags": []
          },
          "execution_count": 37
        }
      ]
    },
    {
      "cell_type": "code",
      "metadata": {
        "id": "J5sDCd6zACUd",
        "outputId": "c4f83bc7-d52b-4b12-f07d-d7106c8abb15",
        "colab": {
          "base_uri": "https://localhost:8080/",
          "height": 206
        }
      },
      "source": [
        "pca_decompressed.head()"
      ],
      "execution_count": 38,
      "outputs": [
        {
          "output_type": "execute_result",
          "data": {
            "text/html": [
              "<div>\n",
              "<style scoped>\n",
              "    .dataframe tbody tr th:only-of-type {\n",
              "        vertical-align: middle;\n",
              "    }\n",
              "\n",
              "    .dataframe tbody tr th {\n",
              "        vertical-align: top;\n",
              "    }\n",
              "\n",
              "    .dataframe thead th {\n",
              "        text-align: right;\n",
              "    }\n",
              "</style>\n",
              "<table border=\"1\" class=\"dataframe\">\n",
              "  <thead>\n",
              "    <tr style=\"text-align: right;\">\n",
              "      <th></th>\n",
              "      <th>Effort</th>\n",
              "      <th>Vi</th>\n",
              "      <th>D</th>\n",
              "      <th>V</th>\n",
              "      <th>Team Salary</th>\n",
              "      <th>Act Time</th>\n",
              "    </tr>\n",
              "  </thead>\n",
              "  <tbody>\n",
              "    <tr>\n",
              "      <th>0</th>\n",
              "      <td>0.349578</td>\n",
              "      <td>0.414587</td>\n",
              "      <td>0.156210</td>\n",
              "      <td>0.168796</td>\n",
              "      <td>0.188741</td>\n",
              "      <td>0.452366</td>\n",
              "    </tr>\n",
              "    <tr>\n",
              "      <th>1</th>\n",
              "      <td>0.574543</td>\n",
              "      <td>0.003546</td>\n",
              "      <td>0.215844</td>\n",
              "      <td>0.028336</td>\n",
              "      <td>0.324503</td>\n",
              "      <td>0.716514</td>\n",
              "    </tr>\n",
              "    <tr>\n",
              "      <th>2</th>\n",
              "      <td>0.417319</td>\n",
              "      <td>0.236359</td>\n",
              "      <td>0.883160</td>\n",
              "      <td>0.527720</td>\n",
              "      <td>0.281208</td>\n",
              "      <td>0.370727</td>\n",
              "    </tr>\n",
              "    <tr>\n",
              "      <th>3</th>\n",
              "      <td>0.895863</td>\n",
              "      <td>0.682268</td>\n",
              "      <td>0.958718</td>\n",
              "      <td>0.761409</td>\n",
              "      <td>0.536627</td>\n",
              "      <td>0.781750</td>\n",
              "    </tr>\n",
              "    <tr>\n",
              "      <th>4</th>\n",
              "      <td>0.288378</td>\n",
              "      <td>1.010000</td>\n",
              "      <td>1.010947</td>\n",
              "      <td>0.958773</td>\n",
              "      <td>0.516665</td>\n",
              "      <td>0.060743</td>\n",
              "    </tr>\n",
              "  </tbody>\n",
              "</table>\n",
              "</div>"
            ],
            "text/plain": [
              "     Effort        Vi         D         V  Team Salary  Act Time\n",
              "0  0.349578  0.414587  0.156210  0.168796     0.188741  0.452366\n",
              "1  0.574543  0.003546  0.215844  0.028336     0.324503  0.716514\n",
              "2  0.417319  0.236359  0.883160  0.527720     0.281208  0.370727\n",
              "3  0.895863  0.682268  0.958718  0.761409     0.536627  0.781750\n",
              "4  0.288378  1.010000  1.010947  0.958773     0.516665  0.060743"
            ]
          },
          "metadata": {
            "tags": []
          },
          "execution_count": 38
        }
      ]
    },
    {
      "cell_type": "code",
      "metadata": {
        "id": "EK6P3sDy_txP",
        "outputId": "2d4fd2e2-62e9-4ca1-9e25-2e9a2e66d63f",
        "colab": {
          "base_uri": "https://localhost:8080/",
          "height": 206
        }
      },
      "source": [
        "original_df.head()"
      ],
      "execution_count": 39,
      "outputs": [
        {
          "output_type": "execute_result",
          "data": {
            "text/html": [
              "<div>\n",
              "<style scoped>\n",
              "    .dataframe tbody tr th:only-of-type {\n",
              "        vertical-align: middle;\n",
              "    }\n",
              "\n",
              "    .dataframe tbody tr th {\n",
              "        vertical-align: top;\n",
              "    }\n",
              "\n",
              "    .dataframe thead th {\n",
              "        text-align: right;\n",
              "    }\n",
              "</style>\n",
              "<table border=\"1\" class=\"dataframe\">\n",
              "  <thead>\n",
              "    <tr style=\"text-align: right;\">\n",
              "      <th></th>\n",
              "      <th>Effort</th>\n",
              "      <th>Vi</th>\n",
              "      <th>D</th>\n",
              "      <th>V</th>\n",
              "      <th>Team Salary</th>\n",
              "      <th>Act Time</th>\n",
              "    </tr>\n",
              "  </thead>\n",
              "  <tbody>\n",
              "    <tr>\n",
              "      <th>0</th>\n",
              "      <td>0.339350</td>\n",
              "      <td>0.416667</td>\n",
              "      <td>0.159533</td>\n",
              "      <td>0.166667</td>\n",
              "      <td>0.190476</td>\n",
              "      <td>0.461538</td>\n",
              "    </tr>\n",
              "    <tr>\n",
              "      <th>1</th>\n",
              "      <td>0.505415</td>\n",
              "      <td>0.000000</td>\n",
              "      <td>0.214008</td>\n",
              "      <td>0.055556</td>\n",
              "      <td>0.333333</td>\n",
              "      <td>0.780220</td>\n",
              "    </tr>\n",
              "    <tr>\n",
              "      <th>2</th>\n",
              "      <td>0.400722</td>\n",
              "      <td>0.250000</td>\n",
              "      <td>0.902724</td>\n",
              "      <td>0.500000</td>\n",
              "      <td>0.285714</td>\n",
              "      <td>0.384615</td>\n",
              "    </tr>\n",
              "    <tr>\n",
              "      <th>3</th>\n",
              "      <td>0.971119</td>\n",
              "      <td>0.666667</td>\n",
              "      <td>0.933852</td>\n",
              "      <td>0.777778</td>\n",
              "      <td>0.523810</td>\n",
              "      <td>0.714286</td>\n",
              "    </tr>\n",
              "    <tr>\n",
              "      <th>4</th>\n",
              "      <td>0.223827</td>\n",
              "      <td>1.000000</td>\n",
              "      <td>1.000000</td>\n",
              "      <td>1.000000</td>\n",
              "      <td>0.523810</td>\n",
              "      <td>0.120879</td>\n",
              "    </tr>\n",
              "  </tbody>\n",
              "</table>\n",
              "</div>"
            ],
            "text/plain": [
              "     Effort        Vi         D         V  Team Salary  Act Time\n",
              "0  0.339350  0.416667  0.159533  0.166667     0.190476  0.461538\n",
              "1  0.505415  0.000000  0.214008  0.055556     0.333333  0.780220\n",
              "2  0.400722  0.250000  0.902724  0.500000     0.285714  0.384615\n",
              "3  0.971119  0.666667  0.933852  0.777778     0.523810  0.714286\n",
              "4  0.223827  1.000000  1.000000  1.000000     0.523810  0.120879"
            ]
          },
          "metadata": {
            "tags": []
          },
          "execution_count": 39
        }
      ]
    },
    {
      "cell_type": "code",
      "metadata": {
        "id": "Ti8AMtamlGxN"
      },
      "source": [
        ""
      ],
      "execution_count": null,
      "outputs": []
    }
  ]
}